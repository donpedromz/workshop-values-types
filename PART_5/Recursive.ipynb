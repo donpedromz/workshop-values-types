{
 "cells": [
  {
   "cell_type": "markdown",
   "id": "c379aa28",
   "metadata": {},
   "source": [
    "## Node Class"
   ]
  },
  {
   "cell_type": "code",
   "execution_count": 84,
   "id": "81be51f1",
   "metadata": {},
   "outputs": [],
   "source": [
    "class Node:\n",
    "    def __init__(self, value):\n",
    "        self.value = value\n",
    "        self.next = None"
   ]
  },
  {
   "cell_type": "markdown",
   "id": "424ec84e",
   "metadata": {},
   "source": [
    "## Linked List Class"
   ]
  },
  {
   "cell_type": "code",
   "execution_count": 85,
   "id": "07bd02ca",
   "metadata": {},
   "outputs": [],
   "source": [
    "class LinkedList:\n",
    "    def __init__(self):\n",
    "        self.head = None\n",
    "        self.length = 0\n",
    "    def append(self,value):\n",
    "        if self.head is None:\n",
    "            node = Node(value)\n",
    "            self.head = node\n",
    "        else:\n",
    "            node = Node(value)\n",
    "            current = self.head\n",
    "            while current.next:\n",
    "                current = current.next\n",
    "            current.next = node\n",
    "    def traverse(self):\n",
    "        current = self.head\n",
    "        while current:\n",
    "            print(current.value, end=\"-->\")\n",
    "            current = current.next\n",
    "        print(\"null\")"
   ]
  },
  {
   "cell_type": "markdown",
   "id": "08a9e17f",
   "metadata": {},
   "source": [
    "#### Test"
   ]
  },
  {
   "cell_type": "code",
   "execution_count": 86,
   "id": "a40b3f5e",
   "metadata": {},
   "outputs": [
    {
     "name": "stdout",
     "output_type": "stream",
     "text": [
      "10-->20-->null\n"
     ]
    }
   ],
   "source": [
    "list = LinkedList()\n",
    "list.append(10)\n",
    "list.append(20)\n",
    "list.traverse()"
   ]
  },
  {
   "cell_type": "markdown",
   "id": "f5d081b5",
   "metadata": {},
   "source": [
    "# B-Tree Node"
   ]
  },
  {
   "cell_type": "code",
   "execution_count": 87,
   "id": "e99f7968",
   "metadata": {},
   "outputs": [],
   "source": [
    "class Node:\n",
    "    def __init__(self, value):\n",
    "        self.value = value\n",
    "        self.left = None\n",
    "        self.right = None"
   ]
  },
  {
   "cell_type": "markdown",
   "id": "148b03a8",
   "metadata": {},
   "source": [
    "## B-Tree"
   ]
  },
  {
   "cell_type": "code",
   "execution_count": 88,
   "id": "9175ad67",
   "metadata": {},
   "outputs": [],
   "source": [
    "class Btree:\n",
    "    def __init__(self):\n",
    "        self.root = None\n",
    "    def __recursive_insert(self, node, value):\n",
    "        if node.value >= value:\n",
    "            if node.left is None:\n",
    "                node.left = Node(value)\n",
    "            else:\n",
    "                self.__recursive_insert(node.left, value)\n",
    "        else:\n",
    "            if node.right is None:\n",
    "                node.right = Node(value)\n",
    "            else:\n",
    "                self.__recursive_insert(node.right,value)\n",
    "    def insert(self,value):\n",
    "        if self.root is None:\n",
    "            self.root = Node(value)\n",
    "        else:\n",
    "            self.__recursive_insert(self.root, value)\n",
    "    def in_order(self):\n",
    "        self.__recursive_in_order(self.root)\n",
    "    def __recursive_in_order(self, current):\n",
    "        if current is not None:\n",
    "            self.__recursive_in_order(current.left)\n",
    "            print(current.value, end = ' ')\n",
    "            self.__recursive_in_order(current.right)\n",
    "    "
   ]
  },
  {
   "cell_type": "markdown",
   "id": "fb83853a",
   "metadata": {},
   "source": [
    "## Test"
   ]
  },
  {
   "cell_type": "code",
   "execution_count": 89,
   "id": "41a1e646",
   "metadata": {},
   "outputs": [
    {
     "name": "stdout",
     "output_type": "stream",
     "text": [
      "-4 -1 10 11 "
     ]
    }
   ],
   "source": [
    "tree = Btree()\n",
    "tree.insert(10)\n",
    "tree.insert(11)\n",
    "tree.insert(-1)\n",
    "tree.insert(-4)\n",
    "tree.in_order()"
   ]
  }
 ],
 "metadata": {
  "kernelspec": {
   "display_name": "Python 3",
   "language": "python",
   "name": "python3"
  },
  "language_info": {
   "codemirror_mode": {
    "name": "ipython",
    "version": 3
   },
   "file_extension": ".py",
   "mimetype": "text/x-python",
   "name": "python",
   "nbconvert_exporter": "python",
   "pygments_lexer": "ipython3",
   "version": "3.12.1"
  }
 },
 "nbformat": 4,
 "nbformat_minor": 5
}
